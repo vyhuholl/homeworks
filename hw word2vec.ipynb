{
 "cells": [
  {
   "cell_type": "code",
   "execution_count": 1,
   "metadata": {},
   "outputs": [],
   "source": [
    "import networkx as nx\n",
    "import sys\n",
    "import gensim, logging\n",
    "from pymorphy2 import MorphAnalyzer\n",
    "import matplotlib.pyplot as plt \n",
    "\n",
    "morph = MorphAnalyzer()\n",
    "logging.basicConfig(format='%(asctime)s : %(levelname)s : %(message)s', level=logging.INFO)"
   ]
  },
  {
   "cell_type": "code",
   "execution_count": 2,
   "metadata": {},
   "outputs": [
    {
     "name": "stderr",
     "output_type": "stream",
     "text": [
      "2018-05-14 23:14:46,570 : INFO : loading projection weights from ruscorpora_upos_skipgram_300_5_2018.vec\n",
      "2018-05-14 23:15:41,807 : INFO : loaded (195071, 300) matrix from ruscorpora_upos_skipgram_300_5_2018.vec\n",
      "2018-05-14 23:15:41,808 : INFO : precomputing L2-norms of word weight vectors\n"
     ]
    }
   ],
   "source": [
    "m = 'ruscorpora_upos_skipgram_300_5_2018.vec'\n",
    "model = gensim.models.KeyedVectors.load_word2vec_format(m, binary=False)\n",
    "model.init_sims(replace=True)"
   ]
  },
  {
   "cell_type": "code",
   "execution_count": 3,
   "metadata": {},
   "outputs": [],
   "source": [
    "words = set()\n",
    "with open('text.txt') as text:\n",
    "    for line in text:\n",
    "        for word in line.split(' '):\n",
    "            word = word.strip('.,:;?!()\"\"''')\n",
    "            ana = morph.parse(word)[0]\n",
    "            if ana.tag.POS != None:\n",
    "                words.add(ana.normal_form + '_' + ana.tag.POS)\n",
    "words = list(words)\n",
    "text.close()"
   ]
  },
  {
   "cell_type": "code",
   "execution_count": 6,
   "metadata": {},
   "outputs": [
    {
     "data": {
      "image/png": "[encoded data removed]",
      "text/plain": [
       "<matplotlib.figure.Figure at 0x1a2e785cc0>"
      ]
     },
     "metadata": {},
     "output_type": "display_data"
    }
   ],
   "source": [
    "G = nx.Graph()\n",
    "for i in range(len(words)):\n",
    "    word = words[i]\n",
    "    G.add_node(word)\n",
    "for i in range(len(words)):\n",
    "    word_1 = words[i]\n",
    "    for j in range(i + 1, len(words)):\n",
    "        word_2 = words[j]\n",
    "        if (word_1 in model.vocab) and (word_2 in model.vocab):\n",
    "            if model.similarity(word_1, word_2) > 0.5:\n",
    "                G.add_edge(word_1, word_2)\n",
    "nx.write_gexf(G, 'graph_file.gexf')\n",
    "pos=nx.spring_layout(G)\n",
    "nx.draw_networkx_nodes(G, pos, node_color='red', node_size=50)\n",
    "nx.draw_networkx_edges(G, pos, edge_color='black')\n",
    "plt.axis('off')\n",
    "plt.show()"
   ]
  },
  {
   "cell_type": "code",
   "execution_count": 7,
   "metadata": {},
   "outputs": [
    {
     "name": "stdout",
     "output_type": "stream",
     "text": [
      "метод_NOUN\n",
      "исследование_NOUN\n",
      "анализ_NOUN\n",
      "применяться_VERB\n",
      "лингвистика_NOUN\n",
      "сервис_NOUN\n",
      "обработка_NOUN\n",
      "показывать_VERB\n",
      "пользователь_NOUN\n",
      "использоваться_VERB\n"
     ]
    }
   ],
   "source": [
    "deg = nx.degree_centrality(G)\n",
    "for nodeid in sorted(deg, key=deg.get, reverse=True)[:10]:\n",
    "    print(nodeid)"
   ]
  },
  {
   "cell_type": "code",
   "execution_count": 12,
   "metadata": {},
   "outputs": [
    {
     "name": "stdout",
     "output_type": "stream",
     "text": [
      "3\n",
      "1\n",
      "1\n",
      "1\n",
      "1\n",
      "2\n",
      "1\n"
     ]
    }
   ],
   "source": [
    "for sub_G in nx.connected_component_subgraphs(G):\n",
    "    if nx.radius(sub_G) != 0:\n",
    "        print(nx.radius(sub_G))"
   ]
  },
  {
   "cell_type": "code",
   "execution_count": 13,
   "metadata": {},
   "outputs": [
    {
     "name": "stdout",
     "output_type": "stream",
     "text": [
      "0.005144032921810699\n"
     ]
    }
   ],
   "source": [
    "print(nx.average_clustering(G))"
   ]
  }
 ],
 "metadata": {
  "kernelspec": {
   "display_name": "Python 3",
   "language": "python",
   "name": "python3"
  },
  "language_info": {
   "codemirror_mode": {
    "name": "ipython",
    "version": 3
   },
   "file_extension": ".py",
   "mimetype": "text/x-python",
   "name": "python",
   "nbconvert_exporter": "python",
   "pygments_lexer": "ipython3",
   "version": "3.6.3"
  }
 },
 "nbformat": 4,
 "nbformat_minor": 2
}
